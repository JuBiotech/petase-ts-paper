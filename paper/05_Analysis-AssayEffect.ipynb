{
 "cells": [
  {
   "cell_type": "markdown",
   "id": "9adebdbb",
   "metadata": {},
   "source": [
    "# Comparison of BioLector and liter-scale bioreactor"
   ]
  },
  {
   "cell_type": "markdown",
   "id": "776263c4",
   "metadata": {},
   "source": [
    "### Imports and data loading"
   ]
  },
  {
   "cell_type": "code",
   "execution_count": 1,
   "id": "59329de3",
   "metadata": {},
   "outputs": [],
   "source": [
    "%load_ext autoreload\n",
    "%autoreload 2"
   ]
  },
  {
   "cell_type": "code",
   "execution_count": 2,
   "id": "94b38f87",
   "metadata": {},
   "outputs": [
    {
     "name": "stderr",
     "output_type": "stream",
     "text": [
      "WARNING (aesara.tensor.blas): Using NumPy C-API based implementation for BLAS functions.\n"
     ]
    },
    {
     "name": "stdout",
     "output_type": "stream",
     "text": [
      "pymc 4.0.0b2\n",
      "calibr8 6.5.2\n"
     ]
    }
   ],
   "source": [
    "import arviz\n",
    "import calibr8\n",
    "from matplotlib import cm, pyplot\n",
    "import numpy\n",
    "import os\n",
    "import pathlib\n",
    "import string\n",
    "try:\n",
    "    import pymc as pymc3\n",
    "except:\n",
    "    import pymc3\n",
    "\n",
    "import cutisplit\n",
    "\n",
    "import run_analysis\n",
    "\n",
    "\n",
    "print(f\"pymc {pymc3.__version__}\")\n",
    "print(f\"calibr8 {calibr8.__version__}\")"
   ]
  },
  {
   "cell_type": "code",
   "execution_count": 3,
   "id": "887f8ebe",
   "metadata": {
    "scrolled": false
   },
   "outputs": [
    {
     "name": "stderr",
     "output_type": "stream",
     "text": [
      "Error while reading the files. Repetition 3 does not exist and loop will be exited\n",
      "Error while reading the files. Repetition 3 does not exist and loop will be exited\n",
      "Error while reading the files. Repetition 3 does not exist and loop will be exited\n"
     ]
    }
   ],
   "source": [
    "RUN_ID = \"CB4MNH\" # run without position effect (after experimental correction)\n",
    "resultpath = f'{RUN_ID}_Results' \n",
    "\n",
    "parent_dir = pathlib.Path(os.getcwd()).parent\n",
    "df_inputs, df_kinetics = run_analysis.read_rounds([\"BWNZ99\", \"BZP1XQ\", \"C4PZHQ\"]) # round 1 and round 2 of PE-H"
   ]
  },
  {
   "cell_type": "markdown",
   "id": "4a139d7c",
   "metadata": {},
   "source": [
    "# Load data from different rounds"
   ]
  },
  {
   "cell_type": "code",
   "execution_count": 4,
   "id": "2a7f45aa",
   "metadata": {
    "scrolled": true
   },
   "outputs": [],
   "source": [
    "idata_before =  arviz.from_netcdf(\n",
    "    rf\"{parent_dir}\\data_analysis\\C4PZHQ_Results\\C4PZHQ_PE-H_round2.nc\"\n",
    ")\n",
    "idata_after = arviz.from_netcdf(\n",
    "    rf\"{parent_dir}\\data_analysis\\{resultpath}\\{RUN_ID}_assay-effect.nc\"\n",
    ")"
   ]
  },
  {
   "cell_type": "code",
   "execution_count": 5,
   "id": "64ddeee3",
   "metadata": {
    "scrolled": true
   },
   "outputs": [
    {
     "data": {
      "image/png": "[encoded data removed]",
      "text/plain": [
       "<Figure size 720x432 with 2 Axes>"
      ]
     },
     "metadata": {
      "needs_background": "light"
     },
     "output_type": "display_data"
    }
   ],
   "source": [
    "fig, axs = pyplot.subplots(figsize=(10,6), ncols=2)\n",
    "for i, (idat, ax) in enumerate(zip([idata_before, idata_after], axs.flatten())):\n",
    "    arviz.plot_forest(idat, var_names=[\"assay_effect\"], combined=True, ax=ax, colors=[\"#023D6B\"])\n",
    "    ax.set_xlabel(\"Probabilty distribution of rate \\n constant k [min$^{-1}$]\", size=15)\n",
    "    strains = numpy.unique([\n",
    "        strain[:-2]\n",
    "        for strain in df_inputs.strain.values\n",
    "])\n",
    "    ax.set_yticklabels(numpy.arange(1,13)[::-1])\n",
    "    ax.set_xlim(0.7, 1.2)\n",
    "    ax.text(0.01, 0.94, string.ascii_lowercase[i], transform=ax.transAxes, \n",
    "            size=20, weight='bold')\n",
    "axs[0].set_title(f\"Before\", size=14)\n",
    "axs[1].set_title(f\"After\", size=14)\n",
    "axs[0].set_ylabel(\"Signal peptide\", size=15)\n",
    "pyplot.tight_layout()\n",
    "pyplot.savefig(\"Assay_effect.png\", dpi=200)"
   ]
  },
  {
   "cell_type": "code",
   "execution_count": null,
   "id": "28c90b01",
   "metadata": {},
   "outputs": [],
   "source": []
  }
 ],
 "metadata": {
  "kernelspec": {
   "display_name": "Python 3 (ipykernel)",
   "language": "python",
   "name": "python3"
  },
  "language_info": {
   "codemirror_mode": {
    "name": "ipython",
    "version": 3
   },
   "file_extension": ".py",
   "mimetype": "text/x-python",
   "name": "python",
   "nbconvert_exporter": "python",
   "pygments_lexer": "ipython3",
   "version": "3.8.12"
  }
 },
 "nbformat": 4,
 "nbformat_minor": 5
}
