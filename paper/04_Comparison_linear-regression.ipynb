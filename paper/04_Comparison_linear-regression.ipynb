{
 "cells": [
  {
   "cell_type": "markdown",
   "id": "54ac982c",
   "metadata": {},
   "source": [
    "## Acrtivity by simple linear regression for LCC rounds 1 and 2 as done by Tim\n",
    "Tim did a simple linear regression and then converted with dilution factor and volume to U/ml. He calculated the confidence interval from the four technical replicates per round"
   ]
  },
  {
   "cell_type": "code",
   "execution_count": 1,
   "id": "bb7eacbd",
   "metadata": {},
   "outputs": [],
   "source": [
    "from matplotlib import pyplot\n",
    "import numpy\n",
    "import pandas"
   ]
  },
  {
   "cell_type": "code",
   "execution_count": 2,
   "id": "357384f6",
   "metadata": {},
   "outputs": [
    {
     "data": {
      "text/html": [
       "<div>\n",
       "<style scoped>\n",
       "    .dataframe tbody tr th:only-of-type {\n",
       "        vertical-align: middle;\n",
       "    }\n",
       "\n",
       "    .dataframe tbody tr th {\n",
       "        vertical-align: top;\n",
       "    }\n",
       "\n",
       "    .dataframe thead th {\n",
       "        text-align: right;\n",
       "    }\n",
       "</style>\n",
       "<table border=\"1\" class=\"dataframe\">\n",
       "  <thead>\n",
       "    <tr style=\"text-align: right;\">\n",
       "      <th></th>\n",
       "      <th>Strain</th>\n",
       "      <th>Cutinase activity [U/mL]</th>\n",
       "      <th>Standard deviation</th>\n",
       "      <th>CI</th>\n",
       "      <th>round</th>\n",
       "    </tr>\n",
       "  </thead>\n",
       "  <tbody>\n",
       "    <tr>\n",
       "      <th>7</th>\n",
       "      <td>LipA</td>\n",
       "      <td>0.530644</td>\n",
       "      <td>0.034425</td>\n",
       "      <td>0.071078</td>\n",
       "      <td>1</td>\n",
       "    </tr>\n",
       "    <tr>\n",
       "      <th>8</th>\n",
       "      <td>LipB</td>\n",
       "      <td>0.578399</td>\n",
       "      <td>0.012697</td>\n",
       "      <td>0.026216</td>\n",
       "      <td>1</td>\n",
       "    </tr>\n",
       "    <tr>\n",
       "      <th>0</th>\n",
       "      <td>LipA</td>\n",
       "      <td>0.818473</td>\n",
       "      <td>0.076429</td>\n",
       "      <td>0.017970</td>\n",
       "      <td>2</td>\n",
       "    </tr>\n",
       "    <tr>\n",
       "      <th>1</th>\n",
       "      <td>LipB</td>\n",
       "      <td>0.767321</td>\n",
       "      <td>0.058405</td>\n",
       "      <td>0.013732</td>\n",
       "      <td>2</td>\n",
       "    </tr>\n",
       "  </tbody>\n",
       "</table>\n",
       "</div>"
      ],
      "text/plain": [
       "  Strain  Cutinase activity [U/mL]  Standard deviation        CI  round\n",
       "7   LipA                  0.530644            0.034425  0.071078      1\n",
       "8   LipB                  0.578399            0.012697  0.026216      1\n",
       "0   LipA                  0.818473            0.076429  0.017970      2\n",
       "1   LipB                  0.767321            0.058405  0.013732      2"
      ]
     },
     "execution_count": 2,
     "metadata": {},
     "output_type": "execute_result"
    }
   ],
   "source": [
    "activity_df1 = pandas.read_excel(\"Activity_per_ml_round1.xlsx\", index_col=0)\n",
    "activity_df2 = pandas.read_excel(\"Activity_per_ml_round2.xlsx\", index_col=0)\n",
    "activity_df1[\"round\"]=1\n",
    "activity_df2[\"round\"]=2\n",
    "df = pandas.concat([activity_df1, activity_df2])\n",
    "df = df[df.Strain.isin([\"LipA\", \"LipB\"])]\n",
    "df"
   ]
  },
  {
   "cell_type": "code",
   "execution_count": 3,
   "id": "8ee13284",
   "metadata": {},
   "outputs": [
    {
     "data": {
      "image/png": "[encoded data removed]",
      "text/plain": [
       "<Figure size 432x432 with 1 Axes>"
      ]
     },
     "metadata": {
      "needs_background": "light"
     },
     "output_type": "display_data"
    }
   ],
   "source": [
    "labels = [\"Round 1\",\"Round 2\"]\n",
    "\n",
    "x = numpy.arange(len(labels))  # the label locations\n",
    "width = 0.35  # the width of the bars\n",
    "\n",
    "fig, ax = pyplot.subplots(figsize=(6,6))\n",
    "ax.bar(\n",
    "    x - 0.5*width, df[df[\"Strain\"]==\"LipA\"][\"Cutinase activity [U/mL]\"], \n",
    "    width, label='LipA', \n",
    "    yerr=df[df[\"Strain\"]==\"LipA\"][\"CI\"], color=\"#023D6B\"\n",
    ")\n",
    "ax.bar(\n",
    "    x + 0.5*width, df[df[\"Strain\"]==\"LipB\"][\"Cutinase activity [U/mL]\"], \n",
    "    width, label='LipB', \n",
    "    yerr=df[df[\"Strain\"]==\"LipB\"][\"CI\"], color=\"#ADBDE3\"\n",
    ")\n",
    "\n",
    "\n",
    "# Add some text for labels, title and custom x-axis tick labels, etc.\n",
    "ax.set_ylabel('Volumetric activity [U/mL]', size=20)\n",
    "ax.set_xticks(x, labels, size=18)\n",
    "ax.set_yticks([0,0.2,0.4,0.6,0.8,1], labels=[0.0,0.2,0.4,0.6,0.8,1.0], size=18)\n",
    "ax.legend(fontsize=14)\n",
    "\n",
    "ax.annotate(xy=(-0.285,0.62), text=r\"$n = 4$\", size=16)\n",
    "ax.annotate(xy=(0.715,0.85), text=r\"$n = 36$\", size=16)\n",
    "ax.annotate(xy=(0.07,0.62), text=r\"$n = 4$\", size=16)\n",
    "ax.annotate(xy=(1.07,0.8), text=r\"$n = 36$\", size=16)\n",
    "\n",
    "ax.set_ylim(0, 1.1)\n",
    "fig.tight_layout()\n",
    "#pyplot.bar(x=df.Strain, height=df[\"Cutinase activity [U/mL]\"], yerr=df.CI, color=\"#023D6B\")\n",
    "pyplot.savefig(\"Activity_per_ml_round-based.png\", dpi=400)"
   ]
  },
  {
   "cell_type": "code",
   "execution_count": null,
   "id": "2362635c",
   "metadata": {},
   "outputs": [],
   "source": []
  }
 ],
 "metadata": {
  "kernelspec": {
   "display_name": "Python 3 (ipykernel)",
   "language": "python",
   "name": "python3"
  },
  "language_info": {
   "codemirror_mode": {
    "name": "ipython",
    "version": 3
   },
   "file_extension": ".py",
   "mimetype": "text/x-python",
   "name": "python",
   "nbconvert_exporter": "python",
   "pygments_lexer": "ipython3",
   "version": "3.8.12"
  }
 },
 "nbformat": 4,
 "nbformat_minor": 5
}
